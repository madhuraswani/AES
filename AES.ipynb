{
 "cells": [
  {
   "cell_type": "markdown",
   "metadata": {},
   "source": [
    "# AES"
   ]
  },
  {
   "cell_type": "code",
   "execution_count": 1,
   "metadata": {},
   "outputs": [],
   "source": [
    "import binascii\n",
    "import secrets"
   ]
  },
  {
   "cell_type": "code",
   "execution_count": 2,
   "metadata": {},
   "outputs": [],
   "source": [
    "text=b'Madhur Aswani'\n",
    "key=secrets.token_bytes(16)"
   ]
  },
  {
   "cell_type": "code",
   "execution_count": 3,
   "metadata": {},
   "outputs": [],
   "source": [
    "def break_in_grids_of_16(s):\n",
    "    all = []\n",
    "    for i in range(len(s)//16):\n",
    "        b = s[i*16: i*16 + 16]\n",
    "        grid = [[], [], [], []]\n",
    "        for i in range(4):\n",
    "            for j in range(4):\n",
    "                grid[i].append(b[i + j*4])\n",
    "        all.append(grid)\n",
    "    return all"
   ]
  },
  {
   "cell_type": "code",
   "execution_count": 92,
   "metadata": {},
   "outputs": [],
   "source": [
    "key=break_in_grids_of_16(key)"
   ]
  },
  {
   "cell_type": "code",
   "execution_count": 91,
   "metadata": {},
   "outputs": [],
   "source": [
    "encrypttext=break_in_grids_of_16(text)"
   ]
  },
  {
   "cell_type": "markdown",
   "metadata": {},
   "source": [
    "### Create Lookup Tables"
   ]
  },
  {
   "cell_type": "code",
   "execution_count": 4,
   "metadata": {},
   "outputs": [],
   "source": [
    "aes_sbox = [\n",
    "    [int('63', 16), int('7c', 16), int('77', 16), int('7b', 16), int('f2', 16), int('6b', 16), int('6f', 16), int('c5', 16), int(\n",
    "        '30', 16), int('01', 16), int('67', 16), int('2b', 16), int('fe', 16), int('d7', 16), int('ab', 16), int('76', 16)],\n",
    "    [int('ca', 16), int('82', 16), int('c9', 16), int('7d', 16), int('fa', 16), int('59', 16), int('47', 16), int('f0', 16), int(\n",
    "        'ad', 16), int('d4', 16), int('a2', 16), int('af', 16), int('9c', 16), int('a4', 16), int('72', 16), int('c0', 16)],\n",
    "    [int('b7', 16), int('fd', 16), int('93', 16), int('26', 16), int('36', 16), int('3f', 16), int('f7', 16), int('cc', 16), int(\n",
    "        '34', 16), int('a5', 16), int('e5', 16), int('f1', 16), int('71', 16), int('d8', 16), int('31', 16), int('15', 16)],\n",
    "    [int('04', 16), int('c7', 16), int('23', 16), int('c3', 16), int('18', 16), int('96', 16), int('05', 16), int('9a', 16), int(\n",
    "        '07', 16), int('12', 16), int('80', 16), int('e2', 16), int('eb', 16), int('27', 16), int('b2', 16), int('75', 16)],\n",
    "    [int('09', 16), int('83', 16), int('2c', 16), int('1a', 16), int('1b', 16), int('6e', 16), int('5a', 16), int('a0', 16), int(\n",
    "        '52', 16), int('3b', 16), int('d6', 16), int('b3', 16), int('29', 16), int('e3', 16), int('2f', 16), int('84', 16)],\n",
    "    [int('53', 16), int('d1', 16), int('00', 16), int('ed', 16), int('20', 16), int('fc', 16), int('b1', 16), int('5b', 16), int(\n",
    "        '6a', 16), int('cb', 16), int('be', 16), int('39', 16), int('4a', 16), int('4c', 16), int('58', 16), int('cf', 16)],\n",
    "    [int('d0', 16), int('ef', 16), int('aa', 16), int('fb', 16), int('43', 16), int('4d', 16), int('33', 16), int('85', 16), int(\n",
    "        '45', 16), int('f9', 16), int('02', 16), int('7f', 16), int('50', 16), int('3c', 16), int('9f', 16), int('a8', 16)],\n",
    "    [int('51', 16), int('a3', 16), int('40', 16), int('8f', 16), int('92', 16), int('9d', 16), int('38', 16), int('f5', 16), int(\n",
    "        'bc', 16), int('b6', 16), int('da', 16), int('21', 16), int('10', 16), int('ff', 16), int('f3', 16), int('d2', 16)],\n",
    "    [int('cd', 16), int('0c', 16), int('13', 16), int('ec', 16), int('5f', 16), int('97', 16), int('44', 16), int('17', 16), int(\n",
    "        'c4', 16), int('a7', 16), int('7e', 16), int('3d', 16), int('64', 16), int('5d', 16), int('19', 16), int('73', 16)],\n",
    "    [int('60', 16), int('81', 16), int('4f', 16), int('dc', 16), int('22', 16), int('2a', 16), int('90', 16), int('88', 16), int(\n",
    "        '46', 16), int('ee', 16), int('b8', 16), int('14', 16), int('de', 16), int('5e', 16), int('0b', 16), int('db', 16)],\n",
    "    [int('e0', 16), int('32', 16), int('3a', 16), int('0a', 16), int('49', 16), int('06', 16), int('24', 16), int('5c', 16), int(\n",
    "        'c2', 16), int('d3', 16), int('ac', 16), int('62', 16), int('91', 16), int('95', 16), int('e4', 16), int('79', 16)],\n",
    "    [int('e7', 16), int('c8', 16), int('37', 16), int('6d', 16), int('8d', 16), int('d5', 16), int('4e', 16), int('a9', 16), int(\n",
    "        '6c', 16), int('56', 16), int('f4', 16), int('ea', 16), int('65', 16), int('7a', 16), int('ae', 16), int('08', 16)],\n",
    "    [int('ba', 16), int('78', 16), int('25', 16), int('2e', 16), int('1c', 16), int('a6', 16), int('b4', 16), int('c6', 16), int(\n",
    "        'e8', 16), int('dd', 16), int('74', 16), int('1f', 16), int('4b', 16), int('bd', 16), int('8b', 16), int('8a', 16)],\n",
    "    [int('70', 16), int('3e', 16), int('b5', 16), int('66', 16), int('48', 16), int('03', 16), int('f6', 16), int('0e', 16), int(\n",
    "        '61', 16), int('35', 16), int('57', 16), int('b9', 16), int('86', 16), int('c1', 16), int('1d', 16), int('9e', 16)],\n",
    "    [int('e1', 16), int('f8', 16), int('98', 16), int('11', 16), int('69', 16), int('d9', 16), int('8e', 16), int('94', 16), int(\n",
    "        '9b', 16), int('1e', 16), int('87', 16), int('e9', 16), int('ce', 16), int('55', 16), int('28', 16), int('df', 16)],\n",
    "    [int('8c', 16), int('a1', 16), int('89', 16), int('0d', 16), int('bf', 16), int('e6', 16), int('42', 16), int('68', 16), int(\n",
    "        '41', 16), int('99', 16), int('2d', 16), int('0f', 16), int('b0', 16), int('54', 16), int('bb', 16), int('16', 16)]\n",
    "]\n",
    "\n",
    "reverse_aes_sbox = [\n",
    "    [int('52', 16), int('09', 16), int('6a', 16), int('d5', 16), int('30', 16), int('36', 16), int('a5', 16), int('38', 16), int(\n",
    "        'bf', 16), int('40', 16), int('a3', 16), int('9e', 16), int('81', 16), int('f3', 16), int('d7', 16), int('fb', 16)],\n",
    "    [int('7c', 16), int('e3', 16), int('39', 16), int('82', 16), int('9b', 16), int('2f', 16), int('ff', 16), int('87', 16), int(\n",
    "        '34', 16), int('8e', 16), int('43', 16), int('44', 16), int('c4', 16), int('de', 16), int('e9', 16), int('cb', 16)],\n",
    "    [int('54', 16), int('7b', 16), int('94', 16), int('32', 16), int('a6', 16), int('c2', 16), int('23', 16), int('3d', 16), int(\n",
    "        'ee', 16), int('4c', 16), int('95', 16), int('0b', 16), int('42', 16), int('fa', 16), int('c3', 16), int('4e', 16)],\n",
    "    [int('08', 16), int('2e', 16), int('a1', 16), int('66', 16), int('28', 16), int('d9', 16), int('24', 16), int('b2', 16), int(\n",
    "        '76', 16), int('5b', 16), int('a2', 16), int('49', 16), int('6d', 16), int('8b', 16), int('d1', 16), int('25', 16)],\n",
    "    [int('72', 16), int('f8', 16), int('f6', 16), int('64', 16), int('86', 16), int('68', 16), int('98', 16), int('16', 16), int(\n",
    "        'd4', 16), int('a4', 16), int('5c', 16), int('cc', 16), int('5d', 16), int('65', 16), int('b6', 16), int('92', 16)],\n",
    "    [int('6c', 16), int('70', 16), int('48', 16), int('50', 16), int('fd', 16), int('ed', 16), int('b9', 16), int('da', 16), int(\n",
    "        '5e', 16), int('15', 16), int('46', 16), int('57', 16), int('a7', 16), int('8d', 16), int('9d', 16), int('84', 16)],\n",
    "    [int('90', 16), int('d8', 16), int('ab', 16), int('00', 16), int('8c', 16), int('bc', 16), int('d3', 16), int('0a', 16), int(\n",
    "        'f7', 16), int('e4', 16), int('58', 16), int('05', 16), int('b8', 16), int('b3', 16), int('45', 16), int('06', 16)],\n",
    "    [int('d0', 16), int('2c', 16), int('1e', 16), int('8f', 16), int('ca', 16), int('3f', 16), int('0f', 16), int('02', 16), int(\n",
    "        'c1', 16), int('af', 16), int('bd', 16), int('03', 16), int('01', 16), int('13', 16), int('8a', 16), int('6b', 16)],\n",
    "    [int('3a', 16), int('91', 16), int('11', 16), int('41', 16), int('4f', 16), int('67', 16), int('dc', 16), int('ea', 16), int(\n",
    "        '97', 16), int('f2', 16), int('cf', 16), int('ce', 16), int('f0', 16), int('b4', 16), int('e6', 16), int('73', 16)],\n",
    "    [int('96', 16), int('ac', 16), int('74', 16), int('22', 16), int('e7', 16), int('ad', 16), int('35', 16), int('85', 16), int(\n",
    "        'e2', 16), int('f9', 16), int('37', 16), int('e8', 16), int('1c', 16), int('75', 16), int('df', 16), int('6e', 16)],\n",
    "    [int('47', 16), int('f1', 16), int('1a', 16), int('71', 16), int('1d', 16), int('29', 16), int('c5', 16), int('89', 16), int(\n",
    "        '6f', 16), int('b7', 16), int('62', 16), int('0e', 16), int('aa', 16), int('18', 16), int('be', 16), int('1b', 16)],\n",
    "    [int('fc', 16), int('56', 16), int('3e', 16), int('4b', 16), int('c6', 16), int('d2', 16), int('79', 16), int('20', 16), int(\n",
    "        '9a', 16), int('db', 16), int('c0', 16), int('fe', 16), int('78', 16), int('cd', 16), int('5a', 16), int('f4', 16)],\n",
    "    [int('1f', 16), int('dd', 16), int('a8', 16), int('33', 16), int('88', 16), int('07', 16), int('c7', 16), int('31', 16), int(\n",
    "        'b1', 16), int('12', 16), int('10', 16), int('59', 16), int('27', 16), int('80', 16), int('ec', 16), int('5f', 16)],\n",
    "    [int('60', 16), int('51', 16), int('7f', 16), int('a9', 16), int('19', 16), int('b5', 16), int('4a', 16), int('0d', 16), int(\n",
    "        '2d', 16), int('e5', 16), int('7a', 16), int('9f', 16), int('93', 16), int('c9', 16), int('9c', 16), int('ef', 16)],\n",
    "    [int('a0', 16), int('e0', 16), int('3b', 16), int('4d', 16), int('ae', 16), int('2a', 16), int('f5', 16), int('b0', 16), int(\n",
    "        'c8', 16), int('eb', 16), int('bb', 16), int('3c', 16), int('83', 16), int('53', 16), int('99', 16), int('61', 16)],\n",
    "    [int('17', 16), int('2b', 16), int('04', 16), int('7e', 16), int('ba', 16), int('77', 16), int('d6', 16), int('26', 16), int(\n",
    "        'e1', 16), int('69', 16), int('14', 16), int('63', 16), int('55', 16), int('21', 16), int('0c', 16), int('7d', 16)]\n",
    "]\n",
    "\n",
    "\n",
    "def lookup(byte):\n",
    "    x = byte >> 4\n",
    "    y = byte & 15\n",
    "    return aes_sbox[x][y]\n",
    "\n",
    "\n",
    "def reverse_lookup(byte):\n",
    "    x = byte >> 4\n",
    "    y = byte & 15\n",
    "    return reverse_aes_sbox[x][y]"
   ]
  },
  {
   "cell_type": "markdown",
   "metadata": {},
   "source": [
    "### Add Round Keys"
   ]
  },
  {
   "cell_type": "code",
   "execution_count": 5,
   "metadata": {},
   "outputs": [],
   "source": [
    "def add_sub_key(block_grid, key_grid):\n",
    "    r = []\n",
    "\n",
    "    # 4 rows in the grid\n",
    "    for i in range(4):\n",
    "        r.append([])\n",
    "        # 4 values on each row\n",
    "        for j in range(4):\n",
    "            r[-1].append(block_grid[i][j] ^ key_grid[i][j])\n",
    "    return r"
   ]
  },
  {
   "cell_type": "code",
   "execution_count": 96,
   "metadata": {},
   "outputs": [
    {
     "data": {
      "text/plain": [
       "[[56, 42, 107, 88],\n",
       " [206, 81, 88, 148],\n",
       " [231, 66, 213, 231],\n",
       " [222, 143, 167, 18]]"
      ]
     },
     "execution_count": 96,
     "metadata": {},
     "output_type": "execute_result"
    }
   ],
   "source": [
    "state=add_sub_key(encrypttext[0],key[0])\n",
    "state"
   ]
  },
  {
   "cell_type": "code",
   "execution_count": 58,
   "metadata": {},
   "outputs": [
    {
     "name": "stdout",
     "output_type": "stream",
     "text": [
      "77\n",
      "97\n",
      "100\n",
      "104\n",
      "117\n",
      "114\n",
      "65\n",
      "115\n",
      "119\n",
      "97\n",
      "110\n",
      "105\n",
      "73\n",
      "73\n",
      "84\n",
      "68\n"
     ]
    }
   ],
   "source": [
    "for by in encrypttext:\n",
    "    print(by)"
   ]
  },
  {
   "cell_type": "code",
   "execution_count": 59,
   "metadata": {},
   "outputs": [
    {
     "name": "stdout",
     "output_type": "stream",
     "text": [
      "117\n",
      "175\n",
      "131\n",
      "182\n",
      "95\n",
      "35\n",
      "3\n",
      "252\n",
      "28\n",
      "57\n",
      "187\n",
      "206\n",
      "17\n",
      "221\n",
      "179\n",
      "86\n"
     ]
    }
   ],
   "source": [
    "for by in key:\n",
    "    print(by)"
   ]
  },
  {
   "cell_type": "code",
   "execution_count": 68,
   "metadata": {},
   "outputs": [
    {
     "name": "stdout",
     "output_type": "stream",
     "text": [
      "56\n",
      "206\n",
      "231\n",
      "222\n",
      "42\n",
      "81\n",
      "66\n",
      "143\n",
      "107\n",
      "88\n",
      "213\n",
      "167\n",
      "88\n",
      "148\n",
      "231\n",
      "18\n"
     ]
    }
   ],
   "source": [
    "for by in state:\n",
    "    print(by)"
   ]
  },
  {
   "cell_type": "markdown",
   "metadata": {},
   "source": [
    "### Key Expansion"
   ]
  },
  {
   "cell_type": "code",
   "execution_count": 24,
   "metadata": {},
   "outputs": [],
   "source": [
    "def rotate_row_left(row, n=1):\n",
    "    return row[n:] + row[:n]"
   ]
  },
  {
   "cell_type": "code",
   "execution_count": 6,
   "metadata": {},
   "outputs": [],
   "source": [
    "def expand_key(key, rounds):\n",
    "\n",
    "    rcon = [[1, 0, 0, 0]]\n",
    "\n",
    "    for _ in range(1, rounds):\n",
    "        rcon.append([rcon[-1][0]*2, 0, 0, 0])\n",
    "        if rcon[-1][0] > 0x80:\n",
    "            rcon[-1][0] ^= 0x11b\n",
    "\n",
    "    key_grid = break_in_grids_of_16(key)[0]\n",
    "\n",
    "    for round in range(rounds):\n",
    "        last_column = [row[-1] for row in key_grid]\n",
    "        last_column_rotate_step = rotate_row_left(last_column)\n",
    "        last_column_sbox_step = [lookup(b) for b in last_column_rotate_step]\n",
    "        last_column_rcon_step = [last_column_sbox_step[i]\n",
    "                                 ^ rcon[round][i] for i in range(len(last_column_rotate_step))]\n",
    "\n",
    "        for r in range(4):\n",
    "            key_grid[r] += bytes([last_column_rcon_step[r]\n",
    "                                  ^ key_grid[r][round*4]])\n",
    "\n",
    "        # Three more columns to go\n",
    "        for i in range(len(key_grid)):\n",
    "            for j in range(1, 4):\n",
    "                key_grid[i] += bytes([key_grid[i][round*4+j]\n",
    "                                      ^ key_grid[i][round*4+j+3]])\n",
    "\n",
    "    return key_grid\n",
    "def extract_key_for_round(expanded_key, round):\n",
    "    return [row[round*4: round*4 + 4] for row in expanded_key]"
   ]
  },
  {
   "cell_type": "markdown",
   "metadata": {},
   "source": [
    "### Mix Columns"
   ]
  },
  {
   "cell_type": "code",
   "execution_count": 7,
   "metadata": {},
   "outputs": [],
   "source": [
    "def multiply_by_2(v):\n",
    "    s = v << 1\n",
    "    s &= 0xff\n",
    "    if (v & 128) != 0:\n",
    "        s = s ^ 0x1b\n",
    "    return s\n",
    "\n",
    "\n",
    "def multiply_by_3(v):\n",
    "    return multiply_by_2(v) ^ v\n",
    "\n",
    "\n",
    "def mix_columns(grid):\n",
    "    new_grid = [[], [], [], []]\n",
    "    for i in range(4):\n",
    "        col = [grid[j][i] for j in range(4)]\n",
    "        col = mix_column(col)\n",
    "        for i in range(4):\n",
    "            new_grid[i].append(col[i])\n",
    "    return new_grid\n",
    "\n",
    "\n",
    "def mix_column(column):\n",
    "    r = [\n",
    "        multiply_by_2(column[0]) ^ multiply_by_3(\n",
    "            column[1]) ^ column[2] ^ column[3],\n",
    "        multiply_by_2(column[1]) ^ multiply_by_3(\n",
    "            column[2]) ^ column[3] ^ column[0],\n",
    "        multiply_by_2(column[2]) ^ multiply_by_3(\n",
    "            column[3]) ^ column[0] ^ column[1],\n",
    "        multiply_by_2(column[3]) ^ multiply_by_3(\n",
    "            column[0]) ^ column[1] ^ column[2],\n",
    "    ]\n",
    "    return r\n"
   ]
  },
  {
   "cell_type": "code",
   "execution_count": 10,
   "metadata": {},
   "outputs": [],
   "source": [
    "def rotate_row_left(row, n=1):\n",
    "    return row[n:] + row[:n]"
   ]
  },
  {
   "cell_type": "markdown",
   "metadata": {},
   "source": [
    "### Encryption"
   ]
  },
  {
   "cell_type": "code",
   "execution_count": 11,
   "metadata": {},
   "outputs": [],
   "source": [
    "def enc(key, data):\n",
    "\n",
    "    # First we need to padd the data with \\x00 and break it into blocks of 16\n",
    "    pad = bytes(16 - len(data) % 16)\n",
    "    \n",
    "    if len(pad) != 16:\n",
    "        data += pad\n",
    "    grids = break_in_grids_of_16(data)\n",
    "\n",
    "    # Now we need to expand the key for the multiple rounds\n",
    "    expanded_key = expand_key(key, 11)\n",
    "\n",
    "    # And apply the original key to the blocks before start the rounds\n",
    "    # For now on we will work with integers\n",
    "    temp_grids = []\n",
    "    round_key = extract_key_for_round(expanded_key, 0)\n",
    "\n",
    "    for grid in grids:\n",
    "        temp_grids.append(add_sub_key(grid, round_key))\n",
    "\n",
    "    grids = temp_grids\n",
    "\n",
    "    # Now we can move to the main part of the algorithm\n",
    "    for round in range(1, 10):\n",
    "        temp_grids = []\n",
    "        \n",
    "        for grid in grids:\n",
    "            sub_bytes_step = [[lookup(val) for val in row] for row in grid]\n",
    "            shift_rows_step = [rotate_row_left(\n",
    "                sub_bytes_step[i], i) for i in range(4)]\n",
    "            mix_column_step = mix_columns(shift_rows_step)\n",
    "            round_key = extract_key_for_round(expanded_key, round)\n",
    "            add_sub_key_step = add_sub_key(mix_column_step, round_key)\n",
    "            temp_grids.append(add_sub_key_step)\n",
    "\n",
    "        grids = temp_grids\n",
    "\n",
    "    # A final round without the mix columns\n",
    "    temp_grids = []\n",
    "    round_key = extract_key_for_round(expanded_key, 10)\n",
    "\n",
    "    for grid in grids:\n",
    "        sub_bytes_step = [[lookup(val) for val in row] for row in grid]\n",
    "        shift_rows_step = [rotate_row_left(\n",
    "            sub_bytes_step[i], i) for i in range(4)]\n",
    "        add_sub_key_step = add_sub_key(shift_rows_step, round_key)\n",
    "        temp_grids.append(add_sub_key_step)\n",
    "\n",
    "    grids = temp_grids\n",
    "\n",
    "    # Just need to recriate the data into a single stream before returning\n",
    "    int_stream = []\n",
    "    \n",
    "    for grid in grids:\n",
    "        for column in range(4):\n",
    "            for row in range(4):\n",
    "                int_stream.append(grid[row][column])\n",
    "\n",
    "    return bytes(int_stream)"
   ]
  },
  {
   "cell_type": "markdown",
   "metadata": {},
   "source": [
    "### Decode"
   ]
  },
  {
   "cell_type": "code",
   "execution_count": 22,
   "metadata": {},
   "outputs": [],
   "source": [
    "def dec(key, data):\n",
    "\n",
    "    grids = break_in_grids_of_16(data)\n",
    "    expanded_key = expand_key(key, 11)\n",
    "    temp_grids = []\n",
    "    round_key = extract_key_for_round(expanded_key, 10)\n",
    "\n",
    "    # First we undo the final round\n",
    "    temp_grids = []\n",
    "\n",
    "    for grid in grids:\n",
    "\n",
    "        add_sub_key_step = add_sub_key(grid, round_key)\n",
    "        shift_rows_step = [rotate_row_left(\n",
    "            add_sub_key_step[i], -1 * i) for i in range(4)]\n",
    "        sub_bytes_step = [[reverse_lookup(val) for val in row]\n",
    "                          for row in shift_rows_step]\n",
    "        temp_grids.append(sub_bytes_step)\n",
    "\n",
    "    grids = temp_grids\n",
    "\n",
    "    for round in range(9, 0, -1):\n",
    "        temp_grids = []\n",
    "\n",
    "        for grid in grids:\n",
    "            round_key = extract_key_for_round(expanded_key, round)\n",
    "            add_sub_key_step = add_sub_key(grid, round_key)\n",
    "\n",
    "            # Doing the mix columns three times is equal to using the reverse matrix\n",
    "            mix_column_step = mix_columns(add_sub_key_step)\n",
    "            mix_column_step = mix_columns(mix_column_step)\n",
    "            mix_column_step = mix_columns(mix_column_step)\n",
    "            shift_rows_step = [rotate_row_left(\n",
    "                mix_column_step[i], -1 * i) for i in range(4)]\n",
    "            sub_bytes_step = [\n",
    "                [reverse_lookup(val) for val in row] for row in shift_rows_step]\n",
    "            temp_grids.append(sub_bytes_step)\n",
    "\n",
    "        grids = temp_grids\n",
    "        temp_grids = []\n",
    "\n",
    "    # Reversing the first add sub key\n",
    "    round_key = extract_key_for_round(expanded_key, 0)\n",
    "\n",
    "    for grid in grids:\n",
    "        temp_grids.append(add_sub_key(grid, round_key))\n",
    "\n",
    "    grids = temp_grids\n",
    "\n",
    "    # Just transform the grids back to bytes\n",
    "    int_stream = []\n",
    "    for grid in grids:\n",
    "        for column in range(4):\n",
    "            for row in range(4):\n",
    "                int_stream.append(grid[row][column])\n",
    "\n",
    "    return bytes(int_stream)"
   ]
  },
  {
   "cell_type": "code",
   "execution_count": 21,
   "metadata": {},
   "outputs": [
    {
     "data": {
      "text/plain": [
       "'³\\rõ³ÿÓi\\x1b(Ø\\x90´\\x14\\x13¶c'"
      ]
     },
     "execution_count": 21,
     "metadata": {},
     "output_type": "execute_result"
    }
   ],
   "source": [
    "encrypted=enc(key,text)\n",
    "encryptedText=\"\"\n",
    "for by in encrypted:\n",
    "    encryptedText+=chr(by)\n",
    "encryptedText"
   ]
  },
  {
   "cell_type": "code",
   "execution_count": 23,
   "metadata": {},
   "outputs": [
    {
     "data": {
      "text/plain": [
       "b'Madhur Aswani\\x00\\x00\\x00'"
      ]
     },
     "execution_count": 23,
     "metadata": {},
     "output_type": "execute_result"
    }
   ],
   "source": [
    "dec(data=encrypted,key=key)"
   ]
  }
 ],
 "metadata": {
  "kernelspec": {
   "display_name": "Python 3",
   "language": "python",
   "name": "python3"
  },
  "language_info": {
   "codemirror_mode": {
    "name": "ipython",
    "version": 3
   },
   "file_extension": ".py",
   "mimetype": "text/x-python",
   "name": "python",
   "nbconvert_exporter": "python",
   "pygments_lexer": "ipython3",
   "version": "3.11.6"
  }
 },
 "nbformat": 4,
 "nbformat_minor": 2
}
